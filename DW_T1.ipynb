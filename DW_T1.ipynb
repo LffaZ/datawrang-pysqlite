{
 "cells": [
  {
   "cell_type": "markdown",
   "id": "ba548bbe-0a35-48bf-a807-e3d625867f57",
   "metadata": {
    "jp-MarkdownHeadingCollapsed": true
   },
   "source": [
    "# Pets Database"
   ]
  },
  {
   "cell_type": "code",
   "execution_count": null,
   "id": "15a1968f-898e-400c-8c5d-09fddc142780",
   "metadata": {},
   "outputs": [],
   "source": [
    "import sqlite3\n",
    "\n",
    "con = sqlite3.connect(\"pets.db\", timeout=10)\n",
    "cur = con.cursor()"
   ]
  },
  {
   "cell_type": "code",
   "execution_count": 4,
   "id": "ada981fc-1aea-4b84-87ac-917ec697f40e",
   "metadata": {},
   "outputs": [],
   "source": [
    "# DDL\n",
    "for row in cur.execute(\"CREATE TABLE Pet (PetID int, PetName varchar(25), OwnerName varchar(100))\"):\n",
    "    print(row)\n",
    "con.commit()\n",
    "\n",
    "con.close()"
   ]
  },
  {
   "cell_type": "code",
   "execution_count": 7,
   "id": "6ebb87a1-5f2c-47dd-9d31-f92539e6f5ae",
   "metadata": {},
   "outputs": [],
   "source": [
    "# DML\n",
    "con = sqlite3.connect(\"pets.db\", timeout=10)\n",
    "cur = con.cursor()\n",
    "\n",
    "for row in cur.execute(\"INSERT INTO Pet VALUES (1, 'Felix', 'Alex')\"):\n",
    "    print(row)\n",
    "for row in cur.execute(\"INSERT INTO Pet VALUES (2, 'Auburn', 'Britt')\"):\n",
    "    print(row)\n",
    "con.commit()\n",
    "\n",
    "con.close()"
   ]
  },
  {
   "cell_type": "code",
   "execution_count": 8,
   "id": "a0475bf7-4713-439a-938d-27192efaa574",
   "metadata": {},
   "outputs": [
    {
     "name": "stdout",
     "output_type": "stream",
     "text": [
      "(1, 'Felix', 'Alex')\n",
      "(2, 'Auburn', 'Britt')\n"
     ]
    }
   ],
   "source": [
    "# DML\n",
    "con = sqlite3.connect(\"pets.db\", timeout=10)\n",
    "cur = con.cursor()\n",
    "\n",
    "for row in cur.execute(\"SELECT * FROM Pet\"):\n",
    "    print(row)\n",
    "con.commit()\n",
    "\n",
    "con.close()"
   ]
  },
  {
   "cell_type": "code",
   "execution_count": 9,
   "id": "81aea2b2-b5f4-4357-8067-5e661499ed25",
   "metadata": {},
   "outputs": [
    {
     "name": "stdout",
     "output_type": "stream",
     "text": [
      "(1, 'Felix', 'Alex')\n",
      "(2, 'Auburn', 'Britt')\n"
     ]
    }
   ],
   "source": [
    "# DML\n",
    "con = sqlite3.connect(\"pets.db\", timeout=10)\n",
    "cur = con.cursor()\n",
    "\n",
    "for row in cur.execute(\"SELECT * FROM Pet ORDER BY PetName DESC\"):\n",
    "    print(row)\n",
    "con.commit()\n",
    "\n",
    "con.close()"
   ]
  },
  {
   "cell_type": "code",
   "execution_count": 11,
   "id": "4168cf5e-fe0f-4db1-bf34-ff32e6b918cb",
   "metadata": {},
   "outputs": [
    {
     "name": "stdout",
     "output_type": "stream",
     "text": [
      "(2, 'Auburn', 'Britt')\n",
      "(1, 'Felix', 'Alex')\n"
     ]
    }
   ],
   "source": [
    "# DML\n",
    "con = sqlite3.connect(\"pets.db\", timeout=10)\n",
    "cur = con.cursor()\n",
    "\n",
    "for row in cur.execute(\"SELECT * FROM Pet ORDER BY PetName\"):\n",
    "    print(row)\n",
    "con.commit()\n",
    "\n",
    "con.close()"
   ]
  },
  {
   "cell_type": "code",
   "execution_count": 13,
   "id": "2aeca67e-ebb1-4d07-b9a8-22eeddb9605d",
   "metadata": {},
   "outputs": [],
   "source": [
    "# DDL\n",
    "con = sqlite3.connect(\"pets.db\", timeout=10)\n",
    "cur = con.cursor()\n",
    "\n",
    "for row in cur.execute(\"ALTER TABLE Pet ADD COLUMN Age int\"):\n",
    "    print(row)\n",
    "for row in cur.execute(\"ALTER TABLE Pet ADD COLUMN Gender varchar(1)\"):\n",
    "    print(row)\n",
    "con.commit()\n",
    "\n",
    "con.close()"
   ]
  },
  {
   "cell_type": "markdown",
   "id": "3cd6a61f-892d-4fce-98d6-92382da2b537",
   "metadata": {
    "jp-MarkdownHeadingCollapsed": true
   },
   "source": [
    "### Update Data"
   ]
  },
  {
   "cell_type": "code",
   "execution_count": 29,
   "id": "4bc9b270-1b7a-40f6-aace-21434ff1e335",
   "metadata": {},
   "outputs": [],
   "source": [
    "# DML\n",
    "con = sqlite3.connect(\"pets.db\", timeout=10)\n",
    "cur = con.cursor()\n",
    "\n",
    "for row in cur.execute(\"UPDATE Pet SET Age=2, Gender='F' WHERE PetName='Auburn'\"):\n",
    "    print(row)\n",
    "for row in cur.execute(\"UPDATE Pet SET Age=3, Gender='M' WHERE PetName='Felix'\"):\n",
    "    print(row)\n",
    "con.commit()\n",
    "\n",
    "con.close()"
   ]
  },
  {
   "cell_type": "code",
   "execution_count": 30,
   "id": "86fe1dd0-10c8-42a4-be62-37c37bb973a4",
   "metadata": {},
   "outputs": [
    {
     "name": "stdout",
     "output_type": "stream",
     "text": [
      "(1, 'Felix', 'Alex', 3, 'M')\n",
      "(2, 'Auburn', 'Britt', 2, 'F')\n"
     ]
    }
   ],
   "source": [
    "# DML\n",
    "con = sqlite3.connect(\"pets.db\", timeout=10)\n",
    "cur = con.cursor()\n",
    "\n",
    "for row in cur.execute(\"SELECT * FROM Pet\"):\n",
    "    print(row)\n",
    "con.commit()\n",
    "\n",
    "con.close()"
   ]
  },
  {
   "cell_type": "markdown",
   "id": "c9e6e701-e3f3-490f-9bec-11df2e41ed74",
   "metadata": {},
   "source": [
    "### Mengelompokkan Data"
   ]
  },
  {
   "cell_type": "code",
   "execution_count": 33,
   "id": "58f8cfc8-f5c4-4ba9-9421-c3586b8acfb5",
   "metadata": {},
   "outputs": [],
   "source": [
    "# DML\n",
    "con = sqlite3.connect(\"pets.db\", timeout=10)\n",
    "cur = con.cursor()\n",
    "\n",
    "for row in cur.execute(\"INSERT INTO Pet VALUES (3, 'Coco', 'Bill', 2, 'M')\"):\n",
    "    print(row)\n",
    "for row in cur.execute(\"INSERT INTO Pet VALUES (4, 'Kin', 'Bob', 1, 'F')\"):\n",
    "    print(row)\n",
    "con.commit()\n",
    "\n",
    "con.close()"
   ]
  },
  {
   "cell_type": "code",
   "execution_count": 34,
   "id": "8b685503-9d3e-4109-8f70-2bdc8b0834b7",
   "metadata": {},
   "outputs": [
    {
     "name": "stdout",
     "output_type": "stream",
     "text": [
      "(1, 'Felix', 'Alex', 3, 'M')\n",
      "(2, 'Auburn', 'Britt', 2, 'F')\n",
      "(3, 'Coco', 'Bill', 2, 'M')\n",
      "(4, 'Kin', 'Bob', 1, 'F')\n"
     ]
    }
   ],
   "source": [
    "# DML\n",
    "con = sqlite3.connect(\"pets.db\", timeout=10)\n",
    "cur = con.cursor()\n",
    "\n",
    "for row in cur.execute(\"SELECT * FROM Pet ORDER BY age DESC\"):\n",
    "    print(row)\n",
    "con.commit()\n",
    "\n",
    "con.close()"
   ]
  },
  {
   "cell_type": "code",
   "execution_count": 35,
   "id": "6961257f-cc8c-4672-afb7-00bd269ed41c",
   "metadata": {},
   "outputs": [
    {
     "name": "stdout",
     "output_type": "stream",
     "text": [
      "(2, 'F')\n",
      "(2, 'M')\n"
     ]
    }
   ],
   "source": [
    "# DML\n",
    "con = sqlite3.connect(\"pets.db\", timeout=10)\n",
    "cur = con.cursor()\n",
    "\n",
    "for row in cur.execute(\"SELECT COUNT(*), gender FROM Pet GROUP BY gender\"):\n",
    "    print(row)\n",
    "con.commit()\n",
    "\n",
    "con.close()"
   ]
  },
  {
   "cell_type": "markdown",
   "id": "252ffd03-8383-44e5-beff-21ce2e128917",
   "metadata": {},
   "source": [
    "### Relational Mapping"
   ]
  },
  {
   "cell_type": "code",
   "execution_count": 37,
   "id": "01be0bdd-1107-4a50-a0c3-7230635344fc",
   "metadata": {},
   "outputs": [],
   "source": [
    "# DDL\n",
    "con = sqlite3.connect('pets.db', timeout=10)\n",
    "cur = con.cursor()\n",
    "\n",
    "cur.execute(\"PRAGMA foreign_keys = 1\")\n",
    "sql = \"\"\"CREATE TABLE PetTreatment (PetID int, TreatDate date, TreatResult varchar(255), \n",
    "CONSTRAINT fk_pet FOREIGN KEY (PetID) REFERENCES Pet(PetID))\"\"\"\n",
    "cur.execute(sql)\n",
    "con.commit()\n",
    "\n",
    "con.close()"
   ]
  },
  {
   "cell_type": "markdown",
   "id": "41d8be99-a898-4311-b157-2659c4c3448e",
   "metadata": {},
   "source": [
    "#### Menampilkan kolom yang spesifik dengan query join"
   ]
  },
  {
   "cell_type": "code",
   "execution_count": 40,
   "id": "8400ec45-8a1d-42f3-be96-bd102b3c6df7",
   "metadata": {},
   "outputs": [],
   "source": [
    "# DML\n",
    "con = sqlite3.connect(\"pets.db\", timeout=10)\n",
    "cur = con.cursor()\n",
    "\n",
    "cur.execute(\"INSERT INTO PetTreatment VALUES (2, '01-05-23', 'grooming done')\")\n",
    "cur.execute(\"INSERT INTO PetTreatment VALUES (1, '01-18-23', 'vaccination')\")\n",
    "cur.execute(\"INSERT INTO PetTreatment VALUES (1, '02-25-23', 'grooming done')\")\n",
    "con.commit()\n",
    "\n",
    "con.close()"
   ]
  },
  {
   "cell_type": "code",
   "execution_count": 41,
   "id": "94a81f8f-af73-4d75-9f71-74b10112974c",
   "metadata": {},
   "outputs": [
    {
     "name": "stdout",
     "output_type": "stream",
     "text": [
      "('Felix', 'Alex', 'grooming done')\n",
      "('Felix', 'Alex', 'vaccination')\n",
      "('Auburn', 'Britt', 'grooming done')\n"
     ]
    }
   ],
   "source": [
    "# DML\n",
    "con = sqlite3.connect(\"pets.db\", timeout=10)\n",
    "cur = con.cursor()\n",
    "\n",
    "for row in cur.execute(\"SELECT p.PetName, p.OwnerName, t.TreatResult FROM Pet as p JOIN PetTreatment as t ON p.PetID=t.PetID\"):\n",
    "    print(row)\n",
    "con.commit()\n",
    "\n",
    "con.close()"
   ]
  },
  {
   "cell_type": "code",
   "execution_count": 50,
   "id": "e5aa5cdf-e201-4bed-8354-7cd0b7ab9669",
   "metadata": {},
   "outputs": [
    {
     "name": "stdout",
     "output_type": "stream",
     "text": [
      "Nama Felix milik Alex pada 01-18-23 mendapatkan vaccination\n",
      "Nama Felix milik Alex pada 02-25-23 mendapatkan grooming done\n",
      "Nama Auburn milik Britt pada 01-05-23 mendapatkan grooming done\n"
     ]
    }
   ],
   "source": [
    "# DML\n",
    "con = sqlite3.connect(\"pets.db\", timeout=10)\n",
    "cur = con.cursor()\n",
    "\n",
    "rows = cur.execute(\"SELECT p.PetName, p.OwnerName, t.TreatDate, t.TreatResult FROM Pet as p JOIN PetTreatment as t ON p.PetID=t.PetID\")\n",
    "for row in rows:\n",
    "    petName = row[0]\n",
    "    ownerName = row[1]\n",
    "    TreatDate = row[2]\n",
    "    TreatResult = row[3]\n",
    "    print(f\"Nama {petName} milik {ownerName} pada {TreatDate} mendapatkan {TreatResult}\")\n",
    "con.commit()\n",
    "\n",
    "con.close()"
   ]
  },
  {
   "cell_type": "markdown",
   "id": "bd49c16f-8b81-4f0d-a6c4-c8fa9d2c7156",
   "metadata": {},
   "source": [
    "#### Menghapus baris pada tabel"
   ]
  },
  {
   "cell_type": "code",
   "execution_count": 51,
   "id": "0913a34a-7dd4-43a7-b953-d793d0bb5c73",
   "metadata": {},
   "outputs": [],
   "source": [
    "with sqlite3.connect('pets.db', timeout=10) as con:\n",
    "    cur = con.cursor()\n",
    "    cur.execute(\"DELETE FROM pet WHERE PetName='Coco'\")\n",
    "    con.commit()"
   ]
  },
  {
   "cell_type": "code",
   "execution_count": 53,
   "id": "12bccd38-2286-459a-bbda-75ff2baec94c",
   "metadata": {},
   "outputs": [
    {
     "name": "stdout",
     "output_type": "stream",
     "text": [
      "(1, 'Felix', 'Alex', 3, 'M')\n",
      "(2, 'Auburn', 'Britt', 2, 'F')\n",
      "(4, 'Kin', 'Bob', 1, 'F')\n"
     ]
    }
   ],
   "source": [
    "with sqlite3.connect('pets.db', timeout=10) as con:\n",
    "    cur = con.cursor()\n",
    "    rows = cur.execute(\"SELECT * FROM Pet\")\n",
    "    for row in rows:\n",
    "        print(row)\n",
    "    con.commit()"
   ]
  },
  {
   "cell_type": "markdown",
   "id": "eb676877-4112-4ad9-99ed-fca77b3a37ca",
   "metadata": {},
   "source": [
    "### RDMS & DATAFRAMES"
   ]
  },
  {
   "cell_type": "code",
   "execution_count": 63,
   "id": "61b84a3a-2fab-4137-b0db-f99f3e1208d3",
   "metadata": {},
   "outputs": [],
   "source": [
    "import pandas as pd\n",
    "cols = ['PetID','PetName', 'OwnerName', 'Age', 'Gender', 'TreatDate', 'TreatResult']\n",
    "data = []"
   ]
  },
  {
   "cell_type": "code",
   "execution_count": 64,
   "id": "bc25c5e6-80d5-4838-a848-e34d6b633d22",
   "metadata": {},
   "outputs": [],
   "source": [
    "with sqlite3.connect('pets.db', timeout=10) as con:\n",
    "    cur = con.cursor()\n",
    "    rows = cur.execute(\"SELECT p.PetID, p.PetName, p.OwnerName, p.Age, p.Gender, t.TreatDate, t.TreatResult FROM Pet as p JOIN PetTreatment as t ON p.PetID=t.PetID\")\n",
    "    for row in rows:\n",
    "        data.append(row)\n",
    "    con.commit()"
   ]
  },
  {
   "cell_type": "code",
   "execution_count": 65,
   "id": "7083c543-63f9-43ef-b18d-b737697de489",
   "metadata": {},
   "outputs": [
    {
     "data": {
      "text/html": [
       "<div>\n",
       "<style scoped>\n",
       "    .dataframe tbody tr th:only-of-type {\n",
       "        vertical-align: middle;\n",
       "    }\n",
       "\n",
       "    .dataframe tbody tr th {\n",
       "        vertical-align: top;\n",
       "    }\n",
       "\n",
       "    .dataframe thead th {\n",
       "        text-align: right;\n",
       "    }\n",
       "</style>\n",
       "<table border=\"1\" class=\"dataframe\">\n",
       "  <thead>\n",
       "    <tr style=\"text-align: right;\">\n",
       "      <th></th>\n",
       "      <th>PetID</th>\n",
       "      <th>PetName</th>\n",
       "      <th>OwnerName</th>\n",
       "      <th>Age</th>\n",
       "      <th>Gender</th>\n",
       "      <th>TreatDate</th>\n",
       "      <th>TreatResult</th>\n",
       "    </tr>\n",
       "  </thead>\n",
       "  <tbody>\n",
       "    <tr>\n",
       "      <th>0</th>\n",
       "      <td>1</td>\n",
       "      <td>Felix</td>\n",
       "      <td>Alex</td>\n",
       "      <td>3</td>\n",
       "      <td>M</td>\n",
       "      <td>01-18-23</td>\n",
       "      <td>vaccination</td>\n",
       "    </tr>\n",
       "    <tr>\n",
       "      <th>1</th>\n",
       "      <td>1</td>\n",
       "      <td>Felix</td>\n",
       "      <td>Alex</td>\n",
       "      <td>3</td>\n",
       "      <td>M</td>\n",
       "      <td>02-25-23</td>\n",
       "      <td>grooming done</td>\n",
       "    </tr>\n",
       "    <tr>\n",
       "      <th>2</th>\n",
       "      <td>2</td>\n",
       "      <td>Auburn</td>\n",
       "      <td>Britt</td>\n",
       "      <td>2</td>\n",
       "      <td>F</td>\n",
       "      <td>01-05-23</td>\n",
       "      <td>grooming done</td>\n",
       "    </tr>\n",
       "  </tbody>\n",
       "</table>\n",
       "</div>"
      ],
      "text/plain": [
       "   PetID PetName OwnerName  Age Gender TreatDate    TreatResult\n",
       "0      1   Felix      Alex    3      M  01-18-23    vaccination\n",
       "1      1   Felix      Alex    3      M  02-25-23  grooming done\n",
       "2      2  Auburn     Britt    2      F  01-05-23  grooming done"
      ]
     },
     "execution_count": 65,
     "metadata": {},
     "output_type": "execute_result"
    }
   ],
   "source": [
    "df = pd.DataFrame(data, columns=cols)\n",
    "df"
   ]
  },
  {
   "cell_type": "markdown",
   "id": "7a78bfc7-b1c5-4927-b8db-ee24db608b8d",
   "metadata": {},
   "source": [
    "# Musics Database"
   ]
  },
  {
   "cell_type": "code",
   "execution_count": 1,
   "id": "a3f4fe0a-91d4-4c30-9adb-4aedc222cd72",
   "metadata": {},
   "outputs": [],
   "source": [
    "import sqlite3\n",
    "\n",
    "con = sqlite3.connect(\"musics.db\", timeout=10)\n",
    "cur = con.cursor()"
   ]
  },
  {
   "cell_type": "code",
   "execution_count": 2,
   "id": "9f3f2ed4-8374-4f52-87e3-3faa1b51cf71",
   "metadata": {},
   "outputs": [],
   "source": [
    "# DDL\n",
    "for row in cur.execute(\"CREATE TABLE Music (ID int primary key, Title varchar(25), Artist varchar(100), Year int)\"):\n",
    "    print(row)\n",
    "con.commit()"
   ]
  },
  {
   "cell_type": "code",
   "execution_count": 3,
   "id": "4ef8a348-2da2-4cb2-9921-264d45b20bb9",
   "metadata": {},
   "outputs": [],
   "source": [
    "for row in cur.execute(\"INSERT INTO Music VALUES (1, 'Blinding Lights', 'The Weeknd', 2019)\"):\n",
    "    print(row)\n",
    "for row in cur.execute(\"INSERT INTO Music VALUES (2, 'Shape of You', 'Ed Sheeran', 2017)\"):\n",
    "    print(row)\n",
    "con.commit()"
   ]
  },
  {
   "cell_type": "code",
   "execution_count": 4,
   "id": "014b17cd-6001-4316-a461-2c58a8a05b3d",
   "metadata": {},
   "outputs": [
    {
     "name": "stdout",
     "output_type": "stream",
     "text": [
      "(1, 'Blinding Lights', 'The Weeknd', 2019)\n",
      "(2, 'Shape of You', 'Ed Sheeran', 2017)\n"
     ]
    }
   ],
   "source": [
    "for row in cur.execute(\"SELECT * FROM Music\"):\n",
    "    print(row)\n",
    "con.commit()"
   ]
  },
  {
   "cell_type": "code",
   "execution_count": 5,
   "id": "b767b4f7-e4da-4aaa-8136-a4658b3587bb",
   "metadata": {},
   "outputs": [
    {
     "name": "stdout",
     "output_type": "stream",
     "text": [
      "(2, 'Shape of You', 'Ed Sheeran', 2017)\n",
      "(1, 'Blinding Lights', 'The Weeknd', 2019)\n"
     ]
    }
   ],
   "source": [
    "for row in cur.execute(\"SELECT * FROM Music ORDER BY Title DESC\"):\n",
    "    print(row)\n",
    "con.commit()"
   ]
  },
  {
   "cell_type": "code",
   "execution_count": 6,
   "id": "949761d4-68df-44d6-8f0c-8fe411861847",
   "metadata": {},
   "outputs": [
    {
     "name": "stdout",
     "output_type": "stream",
     "text": [
      "(1, 'Blinding Lights', 'The Weeknd', 2019)\n",
      "(2, 'Shape of You', 'Ed Sheeran', 2017)\n"
     ]
    }
   ],
   "source": [
    "for row in cur.execute(\"SELECT * FROM Music ORDER BY Title\"):\n",
    "    print(row)\n",
    "con.commit()"
   ]
  },
  {
   "cell_type": "code",
   "execution_count": 7,
   "id": "5fe0fe2f-8c57-4350-b008-6183638be5c0",
   "metadata": {},
   "outputs": [],
   "source": [
    "for row in cur.execute(\"ALTER TABLE Music ADD COLUMN Genre varchar(25)\"):\n",
    "    print(row)\n",
    "for row in cur.execute(\"ALTER TABLE Music ADD COLUMN Rating float\"):\n",
    "    print(row)\n",
    "con.commit()\n",
    "\n",
    "con.close()"
   ]
  },
  {
   "cell_type": "markdown",
   "id": "7b270ca0-23ff-4a7f-aecd-b5b7113cad01",
   "metadata": {},
   "source": [
    "### Update Data"
   ]
  },
  {
   "cell_type": "code",
   "execution_count": 8,
   "id": "6400cb0d-8537-4946-9510-5fc926525abf",
   "metadata": {},
   "outputs": [],
   "source": [
    "# DML\n",
    "con = sqlite3.connect(\"musics.db\", timeout=10)\n",
    "cur = con.cursor()\n",
    "\n",
    "for row in cur.execute(\"UPDATE Music SET Genre='Pop', Rating=4.2 WHERE Title='Blinding Lights'\"):\n",
    "    print(row)\n",
    "for row in cur.execute(\"UPDATE Music SET Genre='Pop', Rating=4.9 WHERE Title='Shape of You'\"):\n",
    "    print(row)\n",
    "con.commit()"
   ]
  },
  {
   "cell_type": "code",
   "execution_count": 9,
   "id": "c2d2dee6-02ab-458f-9084-5333a77f0460",
   "metadata": {},
   "outputs": [
    {
     "name": "stdout",
     "output_type": "stream",
     "text": [
      "(1, 'Blinding Lights', 'The Weeknd', 2019, 'Pop', 4.2)\n",
      "(2, 'Shape of You', 'Ed Sheeran', 2017, 'Pop', 4.9)\n"
     ]
    }
   ],
   "source": [
    "for row in cur.execute(\"SELECT * FROM Music\"):\n",
    "    print(row)\n",
    "con.commit()\n",
    "\n",
    "con.close()"
   ]
  },
  {
   "cell_type": "markdown",
   "id": "83b0b5cd-7a33-469c-98d7-a230ed0bda1d",
   "metadata": {},
   "source": [
    "### Pengelompokan Data"
   ]
  },
  {
   "cell_type": "code",
   "execution_count": 10,
   "id": "70f4bc6b-3d47-4229-866c-9d3e8e072003",
   "metadata": {},
   "outputs": [],
   "source": [
    "# DML\n",
    "con = sqlite3.connect(\"musics.db\", timeout=10)\n",
    "cur = con.cursor()\n",
    "\n",
    "for row in cur.execute(\"INSERT INTO Music VALUES (3, 'As the World Caves In', 'Matt Maltese', 2017, 'Indie', 4.9)\"):\n",
    "    print(row)\n",
    "for row in cur.execute(\"INSERT INTO Music VALUES (4, 'Dandelions', 'Ruth B', 2017, 'Pop', 4.6)\"):\n",
    "    print(row)\n",
    "con.commit()"
   ]
  },
  {
   "cell_type": "code",
   "execution_count": 11,
   "id": "944249e0-c153-4fbc-9d65-4fe4a0743c61",
   "metadata": {},
   "outputs": [
    {
     "name": "stdout",
     "output_type": "stream",
     "text": [
      "(1, 'Blinding Lights', 'The Weeknd', 2019, 'Pop', 4.2)\n",
      "(2, 'Shape of You', 'Ed Sheeran', 2017, 'Pop', 4.9)\n",
      "(3, 'As the World Caves In', 'Matt Maltese', 2017, 'Indie', 4.9)\n",
      "(4, 'Dandelions', 'Ruth B', 2017, 'Pop', 4.6)\n"
     ]
    }
   ],
   "source": [
    "for row in cur.execute(\"SELECT * FROM Music ORDER BY Year DESC\"):\n",
    "    print(row)\n",
    "con.commit()"
   ]
  },
  {
   "cell_type": "code",
   "execution_count": 12,
   "id": "be9f49d0-45ba-4dc5-8c04-065a4dc21ddd",
   "metadata": {},
   "outputs": [
    {
     "name": "stdout",
     "output_type": "stream",
     "text": [
      "(3, 2017)\n",
      "(1, 2019)\n"
     ]
    }
   ],
   "source": [
    "for row in cur.execute(\"SELECT COUNT(*), Year FROM Music GROUP BY Year\"):\n",
    "    print(row)\n",
    "con.commit()\n",
    "\n",
    "con.close()"
   ]
  },
  {
   "cell_type": "markdown",
   "id": "01d5777d-4fab-403b-9b90-745adefe6c82",
   "metadata": {},
   "source": [
    "### Relational Mapping"
   ]
  },
  {
   "cell_type": "code",
   "execution_count": 13,
   "id": "230d0edd-6f75-4d6f-a804-b8d1d13b3182",
   "metadata": {},
   "outputs": [],
   "source": [
    "# DDL\n",
    "con = sqlite3.connect('musics.db', timeout=10)\n",
    "cur = con.cursor()\n",
    "\n",
    "cur.execute(\"PRAGMA foreign_keys = 1\")\n",
    "sql = \"\"\"CREATE TABLE Playlist (PlaylistID int, Name varchar(100), MusicID int, \n",
    "CONSTRAINT fk_music FOREIGN KEY (MusicID) REFERENCES Music(ID))\"\"\"\n",
    "cur.execute(sql)\n",
    "con.commit()"
   ]
  },
  {
   "cell_type": "code",
   "execution_count": 14,
   "id": "dddea85e-00c8-4b5d-abc6-a5dce80daa9d",
   "metadata": {},
   "outputs": [],
   "source": [
    "cur.execute(\"INSERT INTO Playlist VALUES (1, 'Chill Vibes', 1)\")\n",
    "cur.execute(\"INSERT INTO PLaylist VALUES (2, 'Indie Favorites', 3)\")\n",
    "cur.execute(\"INSERT INTO PLaylist VALUES (3, 'Chill Vibes', 4)\")\n",
    "con.commit()"
   ]
  },
  {
   "cell_type": "code",
   "execution_count": 15,
   "id": "40c5921c-79eb-4d3d-8fd4-856525073d70",
   "metadata": {},
   "outputs": [
    {
     "name": "stdout",
     "output_type": "stream",
     "text": [
      "('Blinding Lights', 'The Weeknd', 'Chill Vibes')\n",
      "('As the World Caves In', 'Matt Maltese', 'Indie Favorites')\n",
      "('Dandelions', 'Ruth B', 'Chill Vibes')\n"
     ]
    }
   ],
   "source": [
    "for row in cur.execute(\"SELECT m.Title, m.Artist, p.Name FROM Music as m JOIN Playlist as p ON m.ID=p.MusicID\"):\n",
    "    print(row)\n",
    "con.commit()"
   ]
  },
  {
   "cell_type": "code",
   "execution_count": 16,
   "id": "6df4a63f-17f6-43d0-9862-eb8658c32ba5",
   "metadata": {},
   "outputs": [
    {
     "name": "stdout",
     "output_type": "stream",
     "text": [
      "Music Blinding Lights yang dinyanyikan The Weeknd dirilis pada tahun 2019 dan memasuki playlist Chill Vibes\n",
      "Music As the World Caves In yang dinyanyikan Matt Maltese dirilis pada tahun 2017 dan memasuki playlist Indie Favorites\n",
      "Music Dandelions yang dinyanyikan Ruth B dirilis pada tahun 2017 dan memasuki playlist Chill Vibes\n"
     ]
    }
   ],
   "source": [
    "rows = cur.execute(\"SELECT m.Title, m.Artist, m.Year, p.Name FROM Music as m JOIN Playlist as p ON m.ID=p.MusicID\")\n",
    "for row in rows:\n",
    "    Title = row[0]\n",
    "    Artist = row[1]\n",
    "    Year = row[2]\n",
    "    playlistName = row[3]\n",
    "    print(f\"Music {Title} yang dinyanyikan {Artist} dirilis pada tahun {Year} dan memasuki playlist {playlistName}\")\n",
    "con.commit()\n",
    "\n",
    "con.close()"
   ]
  },
  {
   "cell_type": "markdown",
   "id": "12f8036a-4969-4405-b2d3-4ce4356f015c",
   "metadata": {},
   "source": [
    "### RDMS & Dataframes"
   ]
  },
  {
   "cell_type": "code",
   "execution_count": 17,
   "id": "085fe6b8-6212-438f-8a88-47cd3809c5d1",
   "metadata": {},
   "outputs": [],
   "source": [
    "import pandas as pd\n",
    "cols = ['Title','Artist', 'Year', 'Genre', 'Rating', 'Playlist']\n",
    "data = []"
   ]
  },
  {
   "cell_type": "code",
   "execution_count": 19,
   "id": "2ba48136-8c94-4afc-adc5-fdc739ba3934",
   "metadata": {},
   "outputs": [],
   "source": [
    "with sqlite3.connect('musics.db', timeout=10) as con:\n",
    "    cur = con.cursor()\n",
    "    rows = cur.execute(\"SELECT m.Title, m.Artist, m.Year, m.Genre, m.Rating, p.Name FROM Music as m JOIN Playlist as p ON m.ID=p.MusicID\")\n",
    "    for row in rows:\n",
    "        data.append(row)\n",
    "    con.commit()"
   ]
  },
  {
   "cell_type": "code",
   "execution_count": 20,
   "id": "805ca763-5c4d-42ec-a297-aa4cc0225fb1",
   "metadata": {},
   "outputs": [
    {
     "data": {
      "text/html": [
       "<div>\n",
       "<style scoped>\n",
       "    .dataframe tbody tr th:only-of-type {\n",
       "        vertical-align: middle;\n",
       "    }\n",
       "\n",
       "    .dataframe tbody tr th {\n",
       "        vertical-align: top;\n",
       "    }\n",
       "\n",
       "    .dataframe thead th {\n",
       "        text-align: right;\n",
       "    }\n",
       "</style>\n",
       "<table border=\"1\" class=\"dataframe\">\n",
       "  <thead>\n",
       "    <tr style=\"text-align: right;\">\n",
       "      <th></th>\n",
       "      <th>Title</th>\n",
       "      <th>Artist</th>\n",
       "      <th>Year</th>\n",
       "      <th>Genre</th>\n",
       "      <th>Rating</th>\n",
       "      <th>Playlist</th>\n",
       "    </tr>\n",
       "  </thead>\n",
       "  <tbody>\n",
       "    <tr>\n",
       "      <th>0</th>\n",
       "      <td>Blinding Lights</td>\n",
       "      <td>The Weeknd</td>\n",
       "      <td>2019</td>\n",
       "      <td>Pop</td>\n",
       "      <td>4.2</td>\n",
       "      <td>Chill Vibes</td>\n",
       "    </tr>\n",
       "    <tr>\n",
       "      <th>1</th>\n",
       "      <td>As the World Caves In</td>\n",
       "      <td>Matt Maltese</td>\n",
       "      <td>2017</td>\n",
       "      <td>Indie</td>\n",
       "      <td>4.9</td>\n",
       "      <td>Indie Favorites</td>\n",
       "    </tr>\n",
       "    <tr>\n",
       "      <th>2</th>\n",
       "      <td>Dandelions</td>\n",
       "      <td>Ruth B</td>\n",
       "      <td>2017</td>\n",
       "      <td>Pop</td>\n",
       "      <td>4.6</td>\n",
       "      <td>Chill Vibes</td>\n",
       "    </tr>\n",
       "  </tbody>\n",
       "</table>\n",
       "</div>"
      ],
      "text/plain": [
       "                   Title        Artist  Year  Genre  Rating         Playlist\n",
       "0        Blinding Lights    The Weeknd  2019    Pop     4.2      Chill Vibes\n",
       "1  As the World Caves In  Matt Maltese  2017  Indie     4.9  Indie Favorites\n",
       "2             Dandelions        Ruth B  2017    Pop     4.6      Chill Vibes"
      ]
     },
     "execution_count": 20,
     "metadata": {},
     "output_type": "execute_result"
    }
   ],
   "source": [
    "df = pd.DataFrame(data, columns=cols)\n",
    "df"
   ]
  },
  {
   "cell_type": "code",
   "execution_count": null,
   "id": "935bc7dd-c994-4a94-a93d-e70fce798e93",
   "metadata": {},
   "outputs": [],
   "source": []
  }
 ],
 "metadata": {
  "kernelspec": {
   "display_name": "Python 3 (ipykernel)",
   "language": "python",
   "name": "python3"
  },
  "language_info": {
   "codemirror_mode": {
    "name": "ipython",
    "version": 3
   },
   "file_extension": ".py",
   "mimetype": "text/x-python",
   "name": "python",
   "nbconvert_exporter": "python",
   "pygments_lexer": "ipython3",
   "version": "3.13.2"
  }
 },
 "nbformat": 4,
 "nbformat_minor": 5
}
